{
  "nbformat": 4,
  "nbformat_minor": 0,
  "metadata": {
    "colab": {
      "provenance": []
    },
    "kernelspec": {
      "name": "python3",
      "display_name": "Python 3"
    },
    "language_info": {
      "name": "python"
    }
  },
  "cells": [
    {
      "cell_type": "code",
      "execution_count": null,
      "metadata": {
        "id": "F15yN5dVRG7k"
      },
      "outputs": [],
      "source": [
        "api_key = \"1e745e9067e5cf05a4c2c3a4a87aaab3\"\n"
      ]
    },
    {
      "cell_type": "code",
      "source": [
        "import requests\n",
        "\n",
        "def get_weather(api_key, location):\n",
        "    base_url = \"http://api.openweathermap.org/data/2.5/weather\"\n",
        "    params = {'q': location, 'appid': api_key, 'units': 'metric'}\n",
        "\n",
        "    try:\n",
        "        response = requests.get(base_url, params=params)\n",
        "        response.raise_for_status()\n",
        "        data = response.json()\n",
        "\n",
        "        city = data['name']\n",
        "        temp = data['main']['temp']\n",
        "        humidity = data['main']['humidity']\n",
        "        weather_description = data['weather'][0]['description']\n",
        "\n",
        "        print(f\"\\nWeather in {city}:\")\n",
        "        print(f\"Temperature: {temp}°C\")\n",
        "        print(f\"Humidity: {humidity}%\")\n",
        "        print(f\"Condition: {weather_description.capitalize()}\")\n",
        "\n",
        "    except requests.exceptions.HTTPError as e:\n",
        "        if response.status_code == 401:\n",
        "            print(\"Invalid API key. Please check your API key and try again.\")\n",
        "        else:\n",
        "            print(f\"Error fetching data: {e}\")\n",
        "    except KeyError:\n",
        "        print(\"Invalid location. Please try again.\")\n",
        "\n",
        "def main():\n",
        "    api_key = \"1e745e9067e5cf05a4c2c3a4a87aaab3\"  # Replace with your real API key\n",
        "    location = input(\"Enter a city name or ZIP code: \")\n",
        "    get_weather(api_key, location)\n",
        "\n",
        "if __name__ == \"__main__\":\n",
        "    main()\n"
      ],
      "metadata": {
        "colab": {
          "base_uri": "https://localhost:8080/"
        },
        "id": "3TvZLE5RRiAT",
        "outputId": "ed4cc22f-96f3-4ca8-c157-057d41de8fad"
      },
      "execution_count": null,
      "outputs": [
        {
          "output_type": "stream",
          "name": "stdout",
          "text": [
            "Enter a city name or ZIP code: srinagar\n",
            "\n",
            "Weather in Srinagar:\n",
            "Temperature: 14.58°C\n",
            "Humidity: 15%\n",
            "Condition: Clear sky\n"
          ]
        }
      ]
    }
  ]
}